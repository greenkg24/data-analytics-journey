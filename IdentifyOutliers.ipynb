{
  "nbformat": 4,
  "nbformat_minor": 0,
  "metadata": {
    "colab": {
      "name": "IdentifyOutliers.ipynb",
      "provenance": [],
      "authorship_tag": "ABX9TyM7mZMi3SRY2jo7HQWVi/XK",
      "include_colab_link": true
    },
    "kernelspec": {
      "name": "python3",
      "display_name": "Python 3"
    },
    "language_info": {
      "name": "python"
    }
  },
  "cells": [
    {
      "cell_type": "markdown",
      "metadata": {
        "id": "view-in-github",
        "colab_type": "text"
      },
      "source": [
        "<a href=\"https://colab.research.google.com/github/greenkg24/data-analytics-journey/blob/main/IdentifyOutliers.ipynb\" target=\"_parent\"><img src=\"https://colab.research.google.com/assets/colab-badge.svg\" alt=\"Open In Colab\"/></a>"
      ]
    },
    {
      "cell_type": "code",
      "execution_count": 1,
      "metadata": {
        "id": "5-SKFnzva9ej"
      },
      "outputs": [],
      "source": [
        "# identify outlers using histogram and boxplot\n",
        "import pandas as pd\n",
        "from pandas import DataFrame\n",
        "from sklearn import datasets\n",
        "import matplotlib.pyplot as plt"
      ]
    },
    {
      "cell_type": "code",
      "source": [
        "# load the iris dataset\n",
        "iris_object = datasets.load_iris()\n",
        "\n",
        "# create a data frame from the dataset loaded\n",
        "iris_df = DataFrame(iris_object.data, columns=iris_object.feature_names,\n",
        "                    index=pd.Index([i for i in range(iris_object.data.shape[0])])).join(DataFrame(iris_object.target, columns=pd.Index(['species']), index=pd.Index([i for i in range(iris_object.target.shape[0])])))"
      ],
      "metadata": {
        "id": "5OQ3rqVebKBS"
      },
      "execution_count": 5,
      "outputs": []
    },
    {
      "cell_type": "code",
      "source": [
        "# Histogram\n",
        "histplt, ex1 = plt.subplots()\n",
        "ex1.hist(iris_df.iloc[::,0])"
      ],
      "metadata": {
        "colab": {
          "base_uri": "https://localhost:8080/",
          "height": 320
        },
        "id": "J05hYH3sbzek",
        "outputId": "299ea9b2-7e37-4e74-a325-b00c989238ab"
      },
      "execution_count": 6,
      "outputs": [
        {
          "output_type": "execute_result",
          "data": {
            "text/plain": [
              "(array([ 9., 23., 14., 27., 16., 26., 18.,  6.,  5.,  6.]),\n",
              " array([4.3 , 4.66, 5.02, 5.38, 5.74, 6.1 , 6.46, 6.82, 7.18, 7.54, 7.9 ]),\n",
              " <a list of 10 Patch objects>)"
            ]
          },
          "metadata": {},
          "execution_count": 6
        },
        {
          "output_type": "display_data",
          "data": {
            "image/png": "[encoded data removed]",
            "text/plain": [
              "<Figure size 432x288 with 1 Axes>"
            ]
          },
          "metadata": {
            "needs_background": "light"
          }
        }
      ]
    },
    {
      "cell_type": "code",
      "source": [
        "# Box plot\n",
        "boxplt, ex2 = plt.subplots()\n",
        "ex2.boxplot(iris_df.iloc[::,0])"
      ],
      "metadata": {
        "colab": {
          "base_uri": "https://localhost:8080/",
          "height": 412
        },
        "id": "G8kTvcSpcB7s",
        "outputId": "ce9f3e3d-08d3-401b-bd93-4aa95800dfc8"
      },
      "execution_count": 7,
      "outputs": [
        {
          "output_type": "execute_result",
          "data": {
            "text/plain": [
              "{'boxes': [<matplotlib.lines.Line2D at 0x7fe806019e10>],\n",
              " 'caps': [<matplotlib.lines.Line2D at 0x7fe80601ee90>,\n",
              "  <matplotlib.lines.Line2D at 0x7fe806026410>],\n",
              " 'fliers': [<matplotlib.lines.Line2D at 0x7fe806026ed0>],\n",
              " 'means': [],\n",
              " 'medians': [<matplotlib.lines.Line2D at 0x7fe806026990>],\n",
              " 'whiskers': [<matplotlib.lines.Line2D at 0x7fe80601e410>,\n",
              "  <matplotlib.lines.Line2D at 0x7fe80601e950>]}"
            ]
          },
          "metadata": {},
          "execution_count": 7
        },
        {
          "output_type": "display_data",
          "data": {
            "image/png": "[encoded data removed]",
            "text/plain": [
              "<Figure size 432x288 with 1 Axes>"
            ]
          },
          "metadata": {
            "needs_background": "light"
          }
        }
      ]
    },
    {
      "cell_type": "code",
      "source": [
        ""
      ],
      "metadata": {
        "id": "po5cSMDacgwA"
      },
      "execution_count": null,
      "outputs": []
    }
  ]
}